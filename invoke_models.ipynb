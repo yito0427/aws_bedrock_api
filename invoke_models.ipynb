{
 "cells": [
  {
   "cell_type": "markdown",
   "id": "cbc18c63-163e-47f6-b166-228442fd2667",
   "metadata": {},
   "source": [
    "# Bedrock APIを試す\n",
    "\n",
    "* 開発者ドキュメント：https://docs.aws.amazon.com/bedrock/latest/userguide/what-is-service.html\n",
    "* boto3 1.28.57：https://boto3.amazonaws.com/v1/documentation/api/latest/reference/services/bedrock.html\n",
    "    * bedrock-runtime：https://boto3.amazonaws.com/v1/documentation/api/latest/reference/services/bedrock-runtime.html"
   ]
  },
  {
   "cell_type": "markdown",
   "id": "f85bd6ae-b26c-4ed0-8d27-492f25be238b",
   "metadata": {},
   "source": [
    "# 0.実行環境\n",
    "* SageMaker Notebook Instance\n",
    "    * conda_python3"
   ]
  },
  {
   "cell_type": "markdown",
   "id": "8b730ff2-bcfb-4bcb-948d-db6e16bbcac4",
   "metadata": {},
   "source": [
    "## IAMの確認\n",
    "\n",
    "https://docs.aws.amazon.com/bedrock/latest/userguide/api-setup.html\n",
    "\n",
    "の通り、以下のポリシーを設定する。"
   ]
  },
  {
   "cell_type": "code",
   "execution_count": 20,
   "id": "e1953dac-da00-45d9-acfa-f1ead454144a",
   "metadata": {
    "tags": []
   },
   "outputs": [
    {
     "data": {
      "text/plain": [
       "{'Version': '2012-10-17',\n",
       " 'Statement': [{'Effect': 'Allow', 'Action': 'bedrock:*', 'Resource': '*'}]}"
      ]
     },
     "execution_count": 20,
     "metadata": {},
     "output_type": "execute_result"
    }
   ],
   "source": [
    "{\n",
    "    \"Version\": \"2012-10-17\",\n",
    "    \"Statement\": [\n",
    "        {\n",
    "            \"Effect\": \"Allow\",\n",
    "            \"Action\": \"bedrock:*\",\n",
    "            \"Resource\": \"*\"\n",
    "        }\n",
    "    ]\n",
    "}"
   ]
  },
  {
   "cell_type": "markdown",
   "id": "c18f555e-a309-464a-a7c3-cfcaca7331f7",
   "metadata": {},
   "source": [
    "# 1. boto3バージョン確認\n",
    "\n",
    "1.28.57以上である必要あり"
   ]
  },
  {
   "cell_type": "code",
   "execution_count": 1,
   "id": "8376ce8c-7f48-4963-ba72-4f05bdf3b6eb",
   "metadata": {
    "tags": []
   },
   "outputs": [
    {
     "name": "stdout",
     "output_type": "stream",
     "text": [
      "Requirement already satisfied: pip in /home/ec2-user/anaconda3/envs/python3/lib/python3.10/site-packages (23.2.1)\n",
      "Note: you may need to restart the kernel to use updated packages.\n",
      "Requirement already satisfied: botocore in /home/ec2-user/anaconda3/envs/python3/lib/python3.10/site-packages (1.31.57)\n",
      "Requirement already satisfied: boto3 in /home/ec2-user/anaconda3/envs/python3/lib/python3.10/site-packages (1.28.57)\n",
      "Requirement already satisfied: jmespath<2.0.0,>=0.7.1 in /home/ec2-user/anaconda3/envs/python3/lib/python3.10/site-packages (from botocore) (1.0.1)\n",
      "Requirement already satisfied: python-dateutil<3.0.0,>=2.1 in /home/ec2-user/anaconda3/envs/python3/lib/python3.10/site-packages (from botocore) (2.8.2)\n",
      "Requirement already satisfied: urllib3<1.27,>=1.25.4 in /home/ec2-user/anaconda3/envs/python3/lib/python3.10/site-packages (from botocore) (1.26.14)\n",
      "Requirement already satisfied: s3transfer<0.8.0,>=0.7.0 in /home/ec2-user/anaconda3/envs/python3/lib/python3.10/site-packages (from boto3) (0.7.0)\n",
      "Requirement already satisfied: six>=1.5 in /home/ec2-user/anaconda3/envs/python3/lib/python3.10/site-packages (from python-dateutil<3.0.0,>=2.1->botocore) (1.16.0)\n",
      "Note: you may need to restart the kernel to use updated packages.\n",
      "Requirement already satisfied: boto3 in /home/ec2-user/anaconda3/envs/python3/lib/python3.10/site-packages (1.28.57)\n",
      "Requirement already satisfied: anthropic in /home/ec2-user/anaconda3/envs/python3/lib/python3.10/site-packages (0.3.11)\n",
      "Requirement already satisfied: langchain in /home/ec2-user/anaconda3/envs/python3/lib/python3.10/site-packages (0.0.304)\n",
      "Requirement already satisfied: botocore<1.32.0,>=1.31.57 in /home/ec2-user/anaconda3/envs/python3/lib/python3.10/site-packages (from boto3) (1.31.57)\n",
      "Requirement already satisfied: jmespath<2.0.0,>=0.7.1 in /home/ec2-user/anaconda3/envs/python3/lib/python3.10/site-packages (from boto3) (1.0.1)\n",
      "Requirement already satisfied: s3transfer<0.8.0,>=0.7.0 in /home/ec2-user/anaconda3/envs/python3/lib/python3.10/site-packages (from boto3) (0.7.0)\n",
      "Requirement already satisfied: anyio<4,>=3.5.0 in /home/ec2-user/anaconda3/envs/python3/lib/python3.10/site-packages (from anthropic) (3.7.1)\n",
      "Requirement already satisfied: distro<2,>=1.7.0 in /home/ec2-user/anaconda3/envs/python3/lib/python3.10/site-packages (from anthropic) (1.8.0)\n",
      "Requirement already satisfied: httpx<1,>=0.23.0 in /home/ec2-user/anaconda3/envs/python3/lib/python3.10/site-packages (from anthropic) (0.25.0)\n",
      "Requirement already satisfied: pydantic<3,>=1.9.0 in /home/ec2-user/anaconda3/envs/python3/lib/python3.10/site-packages (from anthropic) (2.4.2)\n",
      "Requirement already satisfied: tokenizers>=0.13.0 in /home/ec2-user/anaconda3/envs/python3/lib/python3.10/site-packages (from anthropic) (0.14.0)\n",
      "Requirement already satisfied: typing-extensions<5,>=4.5 in /home/ec2-user/anaconda3/envs/python3/lib/python3.10/site-packages (from anthropic) (4.7.1)\n",
      "Requirement already satisfied: PyYAML>=5.3 in /home/ec2-user/anaconda3/envs/python3/lib/python3.10/site-packages (from langchain) (6.0)\n",
      "Requirement already satisfied: SQLAlchemy<3,>=1.4 in /home/ec2-user/anaconda3/envs/python3/lib/python3.10/site-packages (from langchain) (2.0.19)\n",
      "Requirement already satisfied: aiohttp<4.0.0,>=3.8.3 in /home/ec2-user/anaconda3/envs/python3/lib/python3.10/site-packages (from langchain) (3.8.4)\n",
      "Requirement already satisfied: async-timeout<5.0.0,>=4.0.0 in /home/ec2-user/anaconda3/envs/python3/lib/python3.10/site-packages (from langchain) (4.0.2)\n",
      "Requirement already satisfied: dataclasses-json<0.7,>=0.5.7 in /home/ec2-user/anaconda3/envs/python3/lib/python3.10/site-packages (from langchain) (0.6.1)\n",
      "Requirement already satisfied: jsonpatch<2.0,>=1.33 in /home/ec2-user/anaconda3/envs/python3/lib/python3.10/site-packages (from langchain) (1.33)\n",
      "Requirement already satisfied: langsmith<0.1.0,>=0.0.38 in /home/ec2-user/anaconda3/envs/python3/lib/python3.10/site-packages (from langchain) (0.0.41)\n",
      "Requirement already satisfied: numexpr<3.0.0,>=2.8.4 in /home/ec2-user/anaconda3/envs/python3/lib/python3.10/site-packages (from langchain) (2.8.7)\n",
      "Requirement already satisfied: numpy<2,>=1 in /home/ec2-user/anaconda3/envs/python3/lib/python3.10/site-packages (from langchain) (1.22.3)\n",
      "Requirement already satisfied: requests<3,>=2 in /home/ec2-user/anaconda3/envs/python3/lib/python3.10/site-packages (from langchain) (2.31.0)\n",
      "Requirement already satisfied: tenacity<9.0.0,>=8.1.0 in /home/ec2-user/anaconda3/envs/python3/lib/python3.10/site-packages (from langchain) (8.2.2)\n",
      "Requirement already satisfied: attrs>=17.3.0 in /home/ec2-user/anaconda3/envs/python3/lib/python3.10/site-packages (from aiohttp<4.0.0,>=3.8.3->langchain) (23.1.0)\n",
      "Requirement already satisfied: charset-normalizer<4.0,>=2.0 in /home/ec2-user/anaconda3/envs/python3/lib/python3.10/site-packages (from aiohttp<4.0.0,>=3.8.3->langchain) (3.2.0)\n",
      "Requirement already satisfied: multidict<7.0,>=4.5 in /home/ec2-user/anaconda3/envs/python3/lib/python3.10/site-packages (from aiohttp<4.0.0,>=3.8.3->langchain) (6.0.4)\n",
      "Requirement already satisfied: yarl<2.0,>=1.0 in /home/ec2-user/anaconda3/envs/python3/lib/python3.10/site-packages (from aiohttp<4.0.0,>=3.8.3->langchain) (1.9.2)\n",
      "Requirement already satisfied: frozenlist>=1.1.1 in /home/ec2-user/anaconda3/envs/python3/lib/python3.10/site-packages (from aiohttp<4.0.0,>=3.8.3->langchain) (1.4.0)\n",
      "Requirement already satisfied: aiosignal>=1.1.2 in /home/ec2-user/anaconda3/envs/python3/lib/python3.10/site-packages (from aiohttp<4.0.0,>=3.8.3->langchain) (1.3.1)\n",
      "Requirement already satisfied: idna>=2.8 in /home/ec2-user/anaconda3/envs/python3/lib/python3.10/site-packages (from anyio<4,>=3.5.0->anthropic) (3.4)\n",
      "Requirement already satisfied: sniffio>=1.1 in /home/ec2-user/anaconda3/envs/python3/lib/python3.10/site-packages (from anyio<4,>=3.5.0->anthropic) (1.3.0)\n",
      "Requirement already satisfied: exceptiongroup in /home/ec2-user/anaconda3/envs/python3/lib/python3.10/site-packages (from anyio<4,>=3.5.0->anthropic) (1.1.2)\n",
      "Requirement already satisfied: python-dateutil<3.0.0,>=2.1 in /home/ec2-user/anaconda3/envs/python3/lib/python3.10/site-packages (from botocore<1.32.0,>=1.31.57->boto3) (2.8.2)\n",
      "Requirement already satisfied: urllib3<1.27,>=1.25.4 in /home/ec2-user/anaconda3/envs/python3/lib/python3.10/site-packages (from botocore<1.32.0,>=1.31.57->boto3) (1.26.14)\n",
      "Requirement already satisfied: marshmallow<4.0.0,>=3.18.0 in /home/ec2-user/anaconda3/envs/python3/lib/python3.10/site-packages (from dataclasses-json<0.7,>=0.5.7->langchain) (3.20.1)\n",
      "Requirement already satisfied: typing-inspect<1,>=0.4.0 in /home/ec2-user/anaconda3/envs/python3/lib/python3.10/site-packages (from dataclasses-json<0.7,>=0.5.7->langchain) (0.9.0)\n",
      "Requirement already satisfied: certifi in /home/ec2-user/anaconda3/envs/python3/lib/python3.10/site-packages (from httpx<1,>=0.23.0->anthropic) (2023.5.7)\n",
      "Requirement already satisfied: httpcore<0.19.0,>=0.18.0 in /home/ec2-user/anaconda3/envs/python3/lib/python3.10/site-packages (from httpx<1,>=0.23.0->anthropic) (0.18.0)\n",
      "Requirement already satisfied: jsonpointer>=1.9 in /home/ec2-user/anaconda3/envs/python3/lib/python3.10/site-packages (from jsonpatch<2.0,>=1.33->langchain) (2.4)\n",
      "Requirement already satisfied: annotated-types>=0.4.0 in /home/ec2-user/anaconda3/envs/python3/lib/python3.10/site-packages (from pydantic<3,>=1.9.0->anthropic) (0.5.0)\n",
      "Requirement already satisfied: pydantic-core==2.10.1 in /home/ec2-user/anaconda3/envs/python3/lib/python3.10/site-packages (from pydantic<3,>=1.9.0->anthropic) (2.10.1)\n",
      "Requirement already satisfied: greenlet!=0.4.17 in /home/ec2-user/anaconda3/envs/python3/lib/python3.10/site-packages (from SQLAlchemy<3,>=1.4->langchain) (2.0.2)\n",
      "Requirement already satisfied: huggingface_hub<0.17,>=0.16.4 in /home/ec2-user/anaconda3/envs/python3/lib/python3.10/site-packages (from tokenizers>=0.13.0->anthropic) (0.16.4)\n",
      "Requirement already satisfied: h11<0.15,>=0.13 in /home/ec2-user/anaconda3/envs/python3/lib/python3.10/site-packages (from httpcore<0.19.0,>=0.18.0->httpx<1,>=0.23.0->anthropic) (0.14.0)\n",
      "Requirement already satisfied: filelock in /home/ec2-user/anaconda3/envs/python3/lib/python3.10/site-packages (from huggingface_hub<0.17,>=0.16.4->tokenizers>=0.13.0->anthropic) (3.12.2)\n",
      "Requirement already satisfied: fsspec in /home/ec2-user/anaconda3/envs/python3/lib/python3.10/site-packages (from huggingface_hub<0.17,>=0.16.4->tokenizers>=0.13.0->anthropic) (2023.6.0)\n",
      "Requirement already satisfied: tqdm>=4.42.1 in /home/ec2-user/anaconda3/envs/python3/lib/python3.10/site-packages (from huggingface_hub<0.17,>=0.16.4->tokenizers>=0.13.0->anthropic) (4.65.0)\n",
      "Requirement already satisfied: packaging>=20.9 in /home/ec2-user/anaconda3/envs/python3/lib/python3.10/site-packages (from huggingface_hub<0.17,>=0.16.4->tokenizers>=0.13.0->anthropic) (21.3)\n",
      "Requirement already satisfied: six>=1.5 in /home/ec2-user/anaconda3/envs/python3/lib/python3.10/site-packages (from python-dateutil<3.0.0,>=2.1->botocore<1.32.0,>=1.31.57->boto3) (1.16.0)\n",
      "Requirement already satisfied: mypy-extensions>=0.3.0 in /home/ec2-user/anaconda3/envs/python3/lib/python3.10/site-packages (from typing-inspect<1,>=0.4.0->dataclasses-json<0.7,>=0.5.7->langchain) (1.0.0)\n",
      "Requirement already satisfied: pyparsing!=3.0.5,>=2.0.2 in /home/ec2-user/anaconda3/envs/python3/lib/python3.10/site-packages (from packaging>=20.9->huggingface_hub<0.17,>=0.16.4->tokenizers>=0.13.0->anthropic) (3.0.9)\n",
      "Note: you may need to restart the kernel to use updated packages.\n"
     ]
    }
   ],
   "source": [
    "%pip install -U pip\n",
    "%pip install -U botocore boto3\n",
    "%pip install boto3 anthropic langchain"
   ]
  },
  {
   "cell_type": "code",
   "execution_count": 2,
   "id": "2b26aa81-6b94-4e46-811c-60e86a1d6af2",
   "metadata": {
    "tags": []
   },
   "outputs": [
    {
     "name": "stdout",
     "output_type": "stream",
     "text": [
      "boto3 1.28.57\n",
      "botocore 1.31.57\n",
      "Note: you may need to restart the kernel to use updated packages.\n"
     ]
    }
   ],
   "source": [
    "%pip list | grep -E 'botocore|boto3' | awk '{print $1, $2}' "
   ]
  },
  {
   "cell_type": "markdown",
   "id": "1eabea3c-68a0-4640-8269-eb1ce97931db",
   "metadata": {},
   "source": [
    " 以下のコマンドで最新のmoduleを利用していることを確認してください\n",
    "\n",
    "boto3 >= 1.28.57\n",
    "\n",
    "botocore >= 1.31.57"
   ]
  },
  {
   "cell_type": "code",
   "execution_count": 4,
   "id": "3dcaa66b-62a4-48ee-b680-e7f4e40c6214",
   "metadata": {
    "tags": []
   },
   "outputs": [
    {
     "name": "stdout",
     "output_type": "stream",
     "text": [
      " はい、こんにちは。 \n"
     ]
    }
   ],
   "source": [
    "import boto3\n",
    "import json\n",
    "\n",
    "# Bedrockでは、InvokeModelとInvokeModelWithStreamingResponse APIを呼び出す場合のみ \"bedrock-runtime\" を利用し、それ以外では\" bedrock\" を利用します。\n",
    "bedrock_runtime_client = boto3.client(\n",
    "    service_name=\"bedrock-runtime\",\n",
    "    region_name=\"us-east-1\"\n",
    ")\n",
    "\n",
    "query = \"こんにちは\"\n",
    "# Anthropic社のClaudeモデルでは、以下のようなフォーマットを利用するよう公式サイトに案内があります https://docs.anthropic.com/claude/docs/introduction-to-prompt-design#human--assistant-formatting\n",
    "# Bedrockではフォーマットに従わない場合エラーが返される挙動になっていますのでご注意下さい。\n",
    "prompt = f\"\\n\\nHuman: {query}\\n\\nAssistant:\"\n",
    "\n",
    "response = bedrock_runtime_client.invoke_model(\n",
    "        body=json.dumps({\"prompt\": prompt, \"max_tokens_to_sample\": 100}), modelId=\"anthropic.claude-v2\"\n",
    ")\n",
    "\n",
    "response_body = json.loads(response.get(\"body\").read())\n",
    "print(response_body.get(\"completion\"))"
   ]
  },
  {
   "cell_type": "code",
   "execution_count": null,
   "id": "97bd33fb-83f6-404c-894c-7444f50dd9a9",
   "metadata": {},
   "outputs": [],
   "source": []
  },
  {
   "cell_type": "code",
   "execution_count": 5,
   "id": "114fd951-acd3-452a-97ff-6dcd0d5d3920",
   "metadata": {
    "tags": []
   },
   "outputs": [
    {
     "name": "stdout",
     "output_type": "stream",
     "text": [
      "amazon.titan-tg1-large\n",
      "amazon.titan-e1t-medium\n",
      "amazon.titan-embed-g1-text-02\n",
      "amazon.titan-text-express-v1\n",
      "amazon.titan-embed-text-v1\n",
      "stability.stable-diffusion-xl\n",
      "stability.stable-diffusion-xl-v0\n",
      "ai21.j2-grande-instruct\n",
      "ai21.j2-jumbo-instruct\n",
      "ai21.j2-mid\n",
      "ai21.j2-mid-v1\n",
      "ai21.j2-ultra\n",
      "ai21.j2-ultra-v1\n",
      "anthropic.claude-instant-v1\n",
      "anthropic.claude-v1\n",
      "anthropic.claude-v2\n",
      "cohere.command-text-v14\n"
     ]
    }
   ],
   "source": [
    " # 利用可能なモデルの確認\n",
    "bedrock_client = boto3.client(\n",
    "    service_name=\"bedrock\",\n",
    "    region_name=\"us-east-1\"\n",
    ")\n",
    "\n",
    "for model in bedrock_client.list_foundation_models()[\"modelSummaries\"]:\n",
    "    print(model[\"modelId\"])"
   ]
  },
  {
   "cell_type": "code",
   "execution_count": null,
   "id": "d43f4d93-e535-401c-9a49-d4899527a3c4",
   "metadata": {},
   "outputs": [],
   "source": []
  },
  {
   "cell_type": "code",
   "execution_count": 6,
   "id": "6ac42c1c-065a-4c26-b058-76b4e5791cee",
   "metadata": {
    "tags": []
   },
   "outputs": [],
   "source": [
    "import json\n",
    "import os\n",
    "import sys\n",
    "import time\n",
    "import boto3\n",
    "from anthropic import Anthropic\n",
    "\n",
    "def generate_anthropic(text, model):\n",
    "    # Pricingは変更される可能性がありますので、公式の料金ページを正としてください。 https://aws.amazon.com/jp/bedrock/pricing/\n",
    "    if model == \"claude-v2\":\n",
    "        prompt_cost_per_token = 0.00001102\n",
    "        completion_cost_per_token = 0.00003268\n",
    "        model_id=\"anthropic.claude-v2\" \n",
    "    elif model == \"claude-v1\":\n",
    "        prompt_cost_per_token = 0.00001102\n",
    "        completion_cost_per_token = 0.00003268\n",
    "        model_id=\"anthropic.claude-v1\" \n",
    "    elif model == \"claude-instant-v1\":\n",
    "        prompt_cost_per_token = 0.00000163\n",
    "        completion_cost_per_token = 0.00000551\n",
    "        model_id=\"anthropic.claude-instant-v1\" \n",
    "    else:\n",
    "        raise Exception(\"this model name does not supported here: \" + model)\n",
    "\n",
    "    # Claudeでのプロンプトのフォーマットはこちらに。https://docs.anthropic.com/claude/docs/introduction-to-prompt-design#human--assistant-formatting\n",
    "    # Bedrockではフォーマットに従わない場合エラーが返される挙動になっていますのでご注意下さい。\n",
    "    prompt = f\"\\n\\nHuman: {text}\\n\\nAssistant:\"\n",
    "\n",
    "    # パラメータの詳細はこちらに。https://docs.anthropic.com/claude/reference/complete_post\n",
    "    body = json.dumps({\"prompt\": prompt, \"max_tokens_to_sample\": 1000, \"temperature\": 0.1})\n",
    "\n",
    "    start_time = time.time()\n",
    "    response = bedrock_runtime_client.invoke_model(\n",
    "        body=body, modelId=model_id\n",
    "    )\n",
    "    response_time = (time.time() - start_time) * 1000\n",
    "    \n",
    "    response_body = json.loads(response.get(\"body\").read())\n",
    "    completion = response_body.get(\"completion\")\n",
    "    print(completion)\n",
    "\n",
    "    # ここではClaudeを利用した際のtoken数、料金、レスポンスタイムを測定しています。Bedrockを利用する際には不要です。\n",
    "    anthropic_client = Anthropic()\n",
    "    prompt_tokens = anthropic_client.count_tokens(prompt)\n",
    "    completion_tokens = anthropic_client.count_tokens(completion)\n",
    "\n",
    "    prompt_cost = prompt_cost_per_token * prompt_tokens\n",
    "    completion_cost = completion_cost_per_token * completion_tokens\n",
    "    total_cost = prompt_cost + completion_cost\n",
    "\n",
    "    print(f'prompt_tokens: {prompt_tokens:,}, completion_tokens: {completion_tokens:,}, prompt_cost: ${prompt_cost:.9f}, completion_cost: ${completion_cost:.9f}, total_cost: ${total_cost:.9f}')\n",
    "    print(f'response_time: {response_time:,.0f} ms')\n",
    "\n",
    "bedrock_runtime_client = boto3.client(\n",
    "    service_name=\"bedrock-runtime\",\n",
    "    region_name=\"us-east-1\"\n",
    ")\n",
    "\n",
    "model = 'claude-v2'"
   ]
  },
  {
   "cell_type": "code",
   "execution_count": null,
   "id": "f3d0107f-24de-45f4-8a71-bb17e3fdbb96",
   "metadata": {},
   "outputs": [],
   "source": []
  },
  {
   "cell_type": "code",
   "execution_count": 7,
   "id": "fdafc78a-77ca-4190-a79c-bf5a1d665a73",
   "metadata": {
    "tags": []
   },
   "outputs": [
    {
     "name": "stdout",
     "output_type": "stream",
     "text": [
      " {\"1\": \"n\", \"2\": \"p\", \"3\": \"n\", \"5\": \"n\", \"6\": \"n\", \"7\": \"p\", \"8\": \"p\"}\n",
      "prompt_tokens: 270, completion_tokens: 42, prompt_cost: $0.002975400, completion_cost: $0.001372560, total_cost: $0.004347960\n",
      "response_time: 1,803 ms\n"
     ]
    }
   ],
   "source": [
    "text = \"\"\"\n",
    "以下のコメントの感情を、「ネガティブ: n」「ポジティブ: p」のいずれかに分類してください。\n",
    "1．\"帰ったら宿題やらなきゃなあ…\"\n",
    "2. \"ここのラーメン超うまい\"\n",
    "3. \"購入して１年ちょっとで壊れてしまいました。残念です。\"\n",
    "5. \"使い方が理解できなかった\"\n",
    "6. \"精度が低く使いものにならない\"\n",
    "7. \"ぜひ今後も継続して利用したいです\"\n",
    "8. \"思ったより丈夫で軽かったので驚きました\"\n",
    "\n",
    "結果についてはJSON形式で返してください。それ以外の文字列は返却しないでください。\n",
    "JSONは下記のような形式で1行で出力してください。\n",
    "{\"1\": \"p\", \"2\": \"n\"}\n",
    "\"\"\"\n",
    "generate_anthropic(text, model)"
   ]
  },
  {
   "cell_type": "code",
   "execution_count": null,
   "id": "be2822ca-e341-4c61-9078-6be669d2b224",
   "metadata": {},
   "outputs": [],
   "source": []
  },
  {
   "cell_type": "code",
   "execution_count": 8,
   "id": "9574ca00-c0d8-4f8a-9eba-02fe7d2f52f5",
   "metadata": {
    "tags": []
   },
   "outputs": [
    {
     "name": "stdout",
     "output_type": "stream",
     "text": [
      " 2\n",
      "prompt_tokens: 308, completion_tokens: 1, prompt_cost: $0.003394160, completion_cost: $0.000032680, total_cost: $0.003426840\n",
      "response_time: 3,931 ms\n"
     ]
    }
   ],
   "source": [
    "text = \"\"\"\n",
    "以下の\"入力文章\"を、\"分野\"のいずれか一つに分類してください。\n",
    "分野ID、つまり整数のみを出力し、分野ID以外の文字列は出力しないでください。\n",
    "\n",
    "# 入力文章\n",
    "ついにさつまいもが美味しい季節がついにやってきましたね。王道の焼き芋や、みんな大好き大学芋、最近はサラダやポタージュスープなど色々な形で食卓を彩る秋には欠かせない食材となっています。そこで、今回の特集では大学芋の美味しい作り方について紹介していきます。\n",
    "\n",
    "# 分野 (分野ID: 分野名)\n",
    "1: テクノロジー, 2: 料理, 3: スポーツ, 4: 美容, 5: 生活, 6: ビジネス, 7: 恋愛, 8: エンタメ, 9: その他\n",
    "\"\"\"\n",
    "generate_anthropic(text, model)"
   ]
  },
  {
   "cell_type": "code",
   "execution_count": null,
   "id": "42d80976-1d01-46e1-89bc-b58ed4c466a5",
   "metadata": {},
   "outputs": [],
   "source": []
  },
  {
   "cell_type": "code",
   "execution_count": 9,
   "id": "ef8aa8cf-acb6-449d-982f-5f905d0903cc",
   "metadata": {
    "tags": []
   },
   "outputs": [
    {
     "name": "stdout",
     "output_type": "stream",
     "text": [
      " <result>\n",
      "アプリケーションの可用性を、アプリケーション全体の単一の目標として最初に考えるのは一般的です。\n",
      "しかし、より注意深く調べると、アプリケーションやサービスの特定の側面には、異なる可用性要件があることがしばしばあります。\n",
      "例えば、あるシステムは、既存のデータの取得よりも、新しいデータの受信と保存を優先させる可能性があります。\n",
      "他のシステムは、リアルタイム操作をシステムの構成や環境を変更する操作よりも優先させます。\n",
      "サービスには、1日の特定の時間帯には非常に高い可用性要件がある一方で、それ以外の時間帯でははるかに長い中断を許容できる場合があります。\n",
      "これらは、単一のアプリケーションを構成要素に分解し、各要素の可用性要件を評価する方法のいくつかの例です。\n",
      "これを行う利点は、最も厳しい要件に合わせてシステム全体を設計するのではなく、特定のニーズに応じて可用性に焦点を当てることができることです。\n",
      "</result>\n",
      "prompt_tokens: 264, completion_tokens: 394, prompt_cost: $0.002909280, completion_cost: $0.012875920, total_cost: $0.015785200\n",
      "response_time: 10,583 ms\n"
     ]
    }
   ],
   "source": [
    " text = \"\"\"\n",
    "あなたはIT周りを得意とする優秀な翻訳家です。以下の\"入力文章\"を、英語から日本語に翻訳してください。翻訳結果は<result></result>タグの中に含めて下さい。\n",
    "\n",
    "# 入力文章\n",
    "It’s common to initially think of an application’s availability as a single target for the application as a whole. However, upon closer inspection, we frequently find that certain aspects of an application or service have different availability requirements. For example, some systems might prioritize the ability to receive and store new data ahead of retrieving existing data. Other systems prioritize real-time operations over operations that change a system’s configuration or environment. Services might have very high availability requirements during certain hours of the day, but can tolerate much longer periods of disruption outside of these hours. These are a few of the ways that you can decompose a single application into constituent parts, and evaluate the availability requirements for each. The benefit of doing this is to focus your efforts (and expense) on availability according to specific needs, rather than engineering the whole system to the strictest requirement.\n",
    "\"\"\"\n",
    "generate_anthropic(text, model)"
   ]
  },
  {
   "cell_type": "code",
   "execution_count": null,
   "id": "0dde979a-b199-43a1-90bc-96f3b2b54731",
   "metadata": {},
   "outputs": [],
   "source": []
  },
  {
   "cell_type": "code",
   "execution_count": null,
   "id": "465df892-0525-4598-848d-ac4d36f72c07",
   "metadata": {},
   "outputs": [],
   "source": []
  },
  {
   "cell_type": "code",
   "execution_count": 10,
   "id": "b36580dc-df6d-4b0b-a67c-43ab71232b5f",
   "metadata": {
    "tags": []
   },
   "outputs": [
    {
     "name": "stdout",
     "output_type": "stream",
     "text": [
      " {\n",
      "  \"results\": [\n",
      "    {\n",
      "      \"name\": \"Cの湯\",\n",
      "      \"reason\": \"30代の男性ユーザーで温泉に興味があるため、源流かけ流しの温泉施設Cの湯がゆっくりできそうです。\"\n",
      "    },\n",
      "    {\n",
      "      \"name\": \"E美術館\", \n",
      "      \"reason\": \"男性ユーザーで美術館に興味があるため、広大な森の中にあるE美術館がゆっくり見学できそうです。\"\n",
      "    }\n",
      "  ]\n",
      "}\n",
      "prompt_tokens: 560, completion_tokens: 165, prompt_cost: $0.006171200, completion_cost: $0.005392200, total_cost: $0.011563400\n",
      "response_time: 4,545 ms\n"
     ]
    }
   ],
   "source": [
    "text = \"\"\"\n",
    "以下のユーザー属性やクエリ文章に合う観光地を、観光地候補から2つ選び、出力フォーマットに合わせて回答してください。\n",
    "# ユーザー属性\n",
    "性別: 男性\n",
    "年齢: 30代\n",
    "興味のある観光地カテゴリ: 温泉, 美術館\n",
    "\n",
    "# クエリ文章\n",
    "軽井沢でおすすめのゆっくりできるところを教えて\n",
    "\n",
    "# 観光地候補 (観光地名: 観光地の詳細)\n",
    "- Aホテル: 木造の西洋式ホテルとして有名なクラシックホテルです。\n",
    "- ショッピングプラザB: リゾート型ショッピングモール。自然とショッピングモールの融合を目指したこのショッピングモールは、100を超えるショップが展開されています\n",
    "- Cの湯: 源流かけ流しを楽しむならここ。和モダンな銭湯をお楽しみいただけます\n",
    "- Dカフェ: テラスでは大自然を眺めながらコーヒーをお楽しみいただけます\n",
    "- E美術館: 広大な森の中に佇むF美術館。ヨーロッパの様々な展示品をご覧ください\n",
    "\n",
    "# 出力フォーマット\n",
    "２つの観光地名(name)と、あたながユーザー属性やクエリ文章からそれを選定した理由(reason)を、以下のようなJSON形式で返してください。JSON以外の文字列は絶対に返却しないでください。\n",
    "{\"results\": [{\"name\": \"\",\"reason\": \"\"},{\"name\": \"\",\"reason\": \"\"}]}\n",
    "\"\"\"\n",
    "generate_anthropic(text, model)"
   ]
  },
  {
   "cell_type": "code",
   "execution_count": null,
   "id": "d757adcf-591b-48d5-bc50-3828eb25fc15",
   "metadata": {},
   "outputs": [],
   "source": []
  },
  {
   "cell_type": "code",
   "execution_count": null,
   "id": "f9d7cfb7-2130-4047-a4af-62c85122fcc7",
   "metadata": {},
   "outputs": [],
   "source": []
  },
  {
   "cell_type": "code",
   "execution_count": 11,
   "id": "3db36e50-8968-48e4-a4d8-b781109e3e0d",
   "metadata": {
    "tags": []
   },
   "outputs": [
    {
     "name": "stdout",
     "output_type": "stream",
     "text": [
      "今日の19時から焼肉が食べれる場所を探してます\n",
      " {\"date\": \"2023-08-05 19:00\", \"guests\": null, \"keywords\": [\"焼肉\"]}\n",
      "prompt_tokens: 817, completion_tokens: 29, prompt_cost: $0.009003340, completion_cost: $0.000947720, total_cost: $0.009951060\n",
      "response_time: 1,742 ms\n",
      "明日の19時から4人で六本木周辺で焼肉が食べれる店を探してます！\n",
      " {\"date\": \"2023-08-06 19:00\", \"guests\": 4, \"keywords\": [\"六本木\", \"焼肉\"]}\n",
      "prompt_tokens: 829, completion_tokens: 36, prompt_cost: $0.009135580, completion_cost: $0.001176480, total_cost: $0.010312060\n",
      "response_time: 2,009 ms\n",
      "渋谷の居酒屋\n",
      " {\"date\": null, \"guests\": null, \"keywords\": [\"渋谷\", \"居酒屋\"]}\n",
      "prompt_tokens: 804, completion_tokens: 28, prompt_cost: $0.008860080, completion_cost: $0.000915040, total_cost: $0.009775120\n",
      "response_time: 1,874 ms\n",
      "こんにちは\n",
      " {\"date\": null, \"guests\": null, \"keywords\": null}\n",
      "prompt_tokens: 798, completion_tokens: 16, prompt_cost: $0.008793960, completion_cost: $0.000522880, total_cost: $0.009316840\n",
      "response_time: 1,393 ms\n"
     ]
    }
   ],
   "source": [
    "def extract_phrases(question):\n",
    "    text = f\"\"\"\n",
    "以下の\"入力文章\"から、\"条件\"に従って日時(date)、人数(guests)、キーワード(keywords)を抽出し、\"出力フォーマット\"に合わせて回答してください。\"例\"に例を示します。\n",
    "\n",
    "# 入力文章\n",
    "{question}\n",
    "\n",
    "# 条件\n",
    "- 現在の日時は、\"2023-08-05 18:30\" です。\n",
    "- 入力文章が日時(具体的な時間や今日、明日などの指示)に言及していない場合は\"date\": nullと答えて下さい。日時に関する記載がある場合、現在の日時も参考にして正しいフォーマットで記載してください。明日、明後日のような表現の場合は、現在の日時の翌日、翌々日を返す必要があることに注意して下さい。\n",
    "- 人数が入力文章に記載されていない場合や、人数が11人を超える場合は\"guests\": nullを出力してください。1-10人の場合は、人数(guests)にその数を整数で記載してください。\n",
    "- キーワード(keywords)には、場所に関係する具体的な地名や駅名の他に、店舗の特徴を表す単語(例：居酒屋、中華、静か）というような単語を中心に0から3個抽出してください。0個の場合は\"keywords\":nullと記載してください。\n",
    "- 入力文章に含まれていない単語は絶対に回答に含めないで下さい。\n",
    "\n",
    "# 例\n",
    "「博多駅周辺の居酒屋」と入力された場合、日時や人数への言及がないので、{{\"date\": null, \"guests\": null, \"keywords\": [\"居酒屋\", \"博多駅\"]}}と回答します。\n",
    "「明後日の12時から3人で焼肉が食べれる渋谷の店を探してます！」と入力された場合、{{\"date\": \"2023-08-07 12:00\", \"guests\": \"3\", \"keywords\": [\"渋谷\", \"焼肉\"]}}と回答します。\n",
    "「眠いですね」と入力された場合は日時、人数、場所や店舗の特徴いずれにも言及されていないので、{{\"date\": \"null\", \"guests\": null, \"keywords\": null}}と回答します。\n",
    "\n",
    "# 出力フォーマット\n",
    "結果についてはJSON形式で返してください。それ以外の文字列は絶対に返却しないでください。\n",
    "以下にJSONのスキーマとその例を示します。\n",
    "{{\"date\": \"2023-02-10 19:00\", \"guests\": \"4\", \"keywords\": [\"新宿\", \"イタリアン\"]}}\n",
    "\"\"\"\n",
    "    print(question)\n",
    "    generate_anthropic(text, model)\n",
    "\n",
    "extract_phrases(\"今日の19時から焼肉が食べれる場所を探してます\")\n",
    "extract_phrases(\"明日の19時から4人で六本木周辺で焼肉が食べれる店を探してます！\")\n",
    "extract_phrases(\"渋谷の居酒屋\")\n",
    "extract_phrases(\"こんにちは\")"
   ]
  },
  {
   "cell_type": "code",
   "execution_count": null,
   "id": "a1db0866-5bb1-4354-8011-3ae73299800a",
   "metadata": {},
   "outputs": [],
   "source": []
  },
  {
   "cell_type": "code",
   "execution_count": null,
   "id": "f4c9e2f8-a330-487a-988f-c81e643e02fe",
   "metadata": {},
   "outputs": [],
   "source": []
  },
  {
   "cell_type": "code",
   "execution_count": 12,
   "id": "8bcb9105-f49f-4232-900c-407f86e11c35",
   "metadata": {
    "tags": []
   },
   "outputs": [
    {
     "name": "stdout",
     "output_type": "stream",
     "text": [
      " 打ち合わせ情報:\n",
      "- 打ち合わせのテーマ: 新製品「A」の現状確認\n",
      "- 打ち合わせの場所: オンライン\n",
      "- 出席者リスト: 中村事業部長、伊藤課長、高橋R&Dマネージャー、小林マーケティングディレクター、佐々木デザインリーダー、渡辺エンジニア\n",
      "- 議事録作成者: 議事録AI\n",
      "\n",
      "議論の内容:\n",
      "- 新製品「A」は健康管理ガジェットで、プラットフォームを通じて提供する\n",
      "- ターゲットは30-50歳の中年層で、初年度販売台数は20万台\n",
      "- 技術的な課題はあるが解決策を検討中、開発期間は1年\n",
      "- マーケティングはウェブとSNSを活用し、操作の簡単さをアピール\n",
      "- デザインは機能的で美しさも追求\n",
      "- セキュリティへの配慮が必要\n",
      "- センサー技術が健康管理にどう貢献するかを説明\n",
      "- UIはシンプルで直感的な操作を目指す\n",
      "- SNSマーケティングの戦略を説明\n",
      "\n",
      "決定事項:\n",
      "- 次回会議でより具体的な計画を議論\n",
      "\n",
      "アクションアイテム: \n",
      "- センサー技術の健康管理への貢献を説明資料にまとめる(渡辺)\n",
      "- UIデザインの詳細を次回に報告(高橋)\n",
      "- SNSマーケティングの具体策を検討(小林)\n",
      "\n",
      "次回打ち合わせ:\n",
      "- 来週水曜 14時、オンライン\n",
      "prompt_tokens: 1,758, completion_tokens: 568, prompt_cost: $0.019373160, completion_cost: $0.018562240, total_cost: $0.037935400\n",
      "response_time: 17,810 ms\n"
     ]
    }
   ],
   "source": [
    "text = \"\"\"\n",
    "あなたは優秀な会社員です。議論の論点を正確に理解し、わかりやすく回答することができます。\n",
    "末尾の会議内容を、以下のテンプレートでまとめてください。該当する項目が存在しない場合は「不明」と記載してください。会議で言及されていないことをまとめに載せないでください。\n",
    "\n",
    "打ち合わせ情報: 打ち合わせの基本的な情報を提供します。これには以下の項目が含まれます。\n",
    "- 打ち合わせのテーマ（一行で簡潔に）\n",
    "- 打ち合わせの場所（オンラインの場合はその旨を記述）\n",
    "- 出席者リスト\n",
    "- 議事録作成者（今回は「議事録AI」と書いてください）\n",
    "議論の内容: 打ち合わせ中の議論の要約を記載します。意思決定に至るまでのプロセスや、異なる意見や提案内容も記載します。箇条書きで記載してください。\n",
    "決定事項: 打ち合わせで決定された内容を明記します。\n",
    "アクションアイテム: 打ち合わせの中で生じたタスクや責任を明記します。誰が、何を、いつまでに行うかという情報を記載します。\n",
    "次回打ち合わせのスケジュール: 次回の打ち合わせの日時や場所を記載します。（具体的な日時の言及がなかった場合は、来週月曜、来月半ばなどのキーワードがあればそれを、なければ不明と記載してください）\n",
    "\n",
    "----\n",
    "中村事業部長: さて、皆様、本日は出席いただきありがとうございます。この打ち合わせでは新製品「A」の現状のコンセプトや各チームの状況を確認していきましょう。\n",
    "伊藤課長: 「A」は次世代のヘルスケアガジェットで、我々が提供するプラットフォームを通して、人々の健康をサポートするというビジョンがあります。ターゲット層は、30-50歳の中年層で、初年度の予想販売台数は200,000台です。\n",
    "高橋R&Dマネージャー: 新製品「A」の開発には、センサー技術の統合やバッテリーの効率化など、いくつかの技術的な問題がありますが、それに対するソリューションはすでに検討しています。開発期間は1年と計画しており、必要なリソースも確保しています。\n",
    "小林マーケティングディレクター: 当社の「A」は、競合製品に対して操作が簡単で直感的な点が強みです。この中年層に特に響くよう、ウェブとSNSを使ったマーケティング戦略を検討しています。\n",
    "佐々木デザインリーダー: 「A」のデザインはモダンでありながらも機能的で、利便性と美しさを両立させることを目指しています。これにより、ブランドの価値も向上するでしょう。\n",
    "渡辺エンジニア: 開発計画全体については基本的に問題ないと考えていますが、センサー技術の統合に際して、セキュリティの問題もしっかりと考慮すべきだと思います。\n",
    "中村事業部長: さて、各部署からの質問や提案、意見があればどうぞ。\n",
    "小林マーケティングディレクター: センサー技術の統合について、それがどのように顧客の健康に貢献するのか具体的な例がありますか？\n",
    "渡辺エンジニア: はい、センサー技術を用いて、心拍数、睡眠の質、運動量などをトラッキングできます。ユーザーは自分の健康状態をより詳細に把握し、生活の改善につなげることができます。\n",
    "佐々木デザインリーダー: 製品のUIはどのように設計されていますか？\n",
    "高橋R&Dマネージャー: UIはシンプルで直感的な操作を前提としたデザインを考えています。ユーザーフィードバックを収集して、必要な調整も行います。\n",
    "伊藤課長: 小林さん、SNSを使ったマーケティング戦略についてもう少し詳しく教えてください。\n",
    "小林マーケティングディレクター: もちろんです。SNSでの広告や、インフルエンサーとのパートナーシップを通じて製品の認知度を高める予定です。ユーザーからの評価やコメントを活用して、製品改善やブランドイメージの確立にも繋げます。\n",
    "中村事業部長: では、今日の会議をまとめましょうか。今日の会議で出た意見や提案を基に、次回の会議でより具体的な計画を議論することにします。次回の会議は来週水曜の14時で、今日と同様にオンラインでお願いします。よろしくお願いします。\n",
    "\"\"\"\n",
    "generate_anthropic(text, model)"
   ]
  },
  {
   "cell_type": "code",
   "execution_count": null,
   "id": "496b9bf1-7971-440c-b91d-068c4017d07a",
   "metadata": {},
   "outputs": [],
   "source": []
  },
  {
   "cell_type": "code",
   "execution_count": null,
   "id": "65e3cd6d-9586-4363-883f-fe66e629a1b0",
   "metadata": {},
   "outputs": [],
   "source": []
  },
  {
   "cell_type": "code",
   "execution_count": null,
   "id": "eee8aee1-be88-486d-a69a-af20d6d34789",
   "metadata": {},
   "outputs": [],
   "source": []
  },
  {
   "cell_type": "code",
   "execution_count": null,
   "id": "38232807-b656-44c9-993e-941fe7bca013",
   "metadata": {},
   "outputs": [],
   "source": []
  },
  {
   "cell_type": "code",
   "execution_count": null,
   "id": "5f224b8d-ac50-4caa-9f53-2db6a4608c4b",
   "metadata": {},
   "outputs": [],
   "source": []
  },
  {
   "cell_type": "code",
   "execution_count": null,
   "id": "dcd57652-d27f-4140-9786-ca97d799f2a0",
   "metadata": {},
   "outputs": [],
   "source": []
  },
  {
   "cell_type": "markdown",
   "id": "7868da94-3609-46a1-9c54-31be9503870d",
   "metadata": {},
   "source": [
    "https://docs.aws.amazon.com/bedrock/latest/userguide/api-methods-run-inference.html"
   ]
  },
  {
   "cell_type": "code",
   "execution_count": 13,
   "id": "23eb0468-aeae-42ce-a77b-1077ee6a324a",
   "metadata": {
    "tags": []
   },
   "outputs": [
    {
     "name": "stdout",
     "output_type": "stream",
     "text": [
      " Here is a simple explanation of black holes for 8th graders:\n",
      "\n",
      "- A black hole is a region in space where gravity is so strong that nothing can escape from it, even light. This region is called the event horizon.\n",
      "\n",
      "- Black holes form when very massive stars collapse under their own gravity at the end of their life cycle. This collapse crushes the mass of the star into a very small, dense region forming the black hole. \n",
      "\n",
      "- The gravity of a black hole is so intense because all of the mass of the collapsed star is concentrated into an extremely small space. This creates a gravitational field that is so strong that not even light can escape past the event horizon.\n",
      "\n",
      "- The event horizon is the boundary around the black hole where the escape velocity (the speed needed to break free from the gravitational pull) equals the speed of light (300,000 km/s). Nothing can go faster than the speed of light, so nothing can escape from inside the event horizon.\n",
      "\n",
      "- Black holes cannot be directly observed because they emit no light. But we can detect them through their gravitational effects on nearby stars and gas clouds. Large black holes also pull in and \"swallow\" nearby matter, producing a lot of X-ray radiation as the matter accelerates and heats up.\n",
      "\n",
      "- Supermassive black holes are thought to exist at the center of most large galaxies, including our own Milky Way galaxy. These black holes have masses millions to\n"
     ]
    }
   ],
   "source": [
    "import boto3\n",
    "import json\n",
    "bedrock = boto3.client(service_name='bedrock-runtime')\n",
    "\n",
    "body = json.dumps({\n",
    "    \"prompt\": \"\\n\\nHuman:explain black holes to 8th graders\\n\\nAssistant:\",\n",
    "    \"max_tokens_to_sample\": 300,\n",
    "    \"temperature\": 0.1,\n",
    "    \"top_p\": 0.9,\n",
    "})\n",
    "\n",
    "modelId = 'anthropic.claude-v2'\n",
    "accept = 'application/json'\n",
    "contentType = 'application/json'\n",
    "\n",
    "response = bedrock.invoke_model(body=body, modelId=modelId, accept=accept, contentType=contentType)\n",
    "\n",
    "response_body = json.loads(response.get('body').read())\n",
    "\n",
    "# text\n",
    "print(response_body.get('completion'))"
   ]
  },
  {
   "cell_type": "code",
   "execution_count": 14,
   "id": "517ba96e-2803-476d-baa5-649ecc0f491e",
   "metadata": {
    "tags": []
   },
   "outputs": [
    {
     "name": "stdout",
     "output_type": "stream",
     "text": [
      "{'completion': ' Here', 'stop_reason': None}\n",
      "{'completion': ' is a 997 word essay on living on Mars:\\n\\nLiving on', 'stop_reason': None}\n",
      "{'completion': ' Mars\\n\\nThe idea of living on Mars has long captured the human imagination', 'stop_reason': None}\n",
      "{'completion': '. Mars is the most Earth', 'stop_reason': None}\n",
      "{'completion': '-like planet in our solar system, leading many', 'stop_reason': None}\n",
      "{'completion': ' to wonder if humans could one day', 'stop_reason': None}\n",
      "{'completion': ' inhabit this distant world. While significant', 'stop_reason': None}\n",
      "{'completion': ' technological and', 'stop_reason': None}\n",
      "{'completion': ' logistical hurdles remain, the possibility', 'stop_reason': None}\n",
      "{'completion': ' of establishing a permanent human settlement on Mars is closer', 'stop_reason': None}\n",
      "{'completion': ' than ever before. With continued innovation', 'stop_reason': None}\n",
      "{'completion': ' and investment,', 'stop_reason': None}\n",
      "{'completion': ' the dream', 'stop_reason': None}\n",
      "{'completion': ' of colonizing the Red Planet', 'stop_reason': 'max_tokens'}\n"
     ]
    }
   ],
   "source": [
    "import boto3\n",
    "import json\n",
    "\n",
    "bedrock = boto3.client(service_name='bedrock-runtime')\n",
    "\n",
    "body = json.dumps({\n",
    "    'prompt': '\\n\\nHuman:write an essay for living on mars in 1000 words\\n\\nAssistant:',\n",
    "    'max_tokens_to_sample': 100\n",
    "})\n",
    "\n",
    "response = bedrock.invoke_model_with_response_stream(\n",
    "    modelId='anthropic.claude-v2', \n",
    "    body=body\n",
    ")\n",
    "\n",
    "stream = response.get('body')\n",
    "if stream:\n",
    "    for event in stream:\n",
    "        chunk = event.get('chunk')\n",
    "        if chunk:\n",
    "            print(json.loads(chunk.get('bytes').decode()))"
   ]
  },
  {
   "cell_type": "code",
   "execution_count": 19,
   "id": "8dd057ab-9559-466c-9c22-6f6397f0e53e",
   "metadata": {
    "tags": []
   },
   "outputs": [
    {
     "name": "stdout",
     "output_type": "stream",
     "text": [
      " Here is a 996-word essay on living on Mars:\n",
      "\n",
      "Living on Mars\n",
      "\n",
      "With technological advancements and the desire to explore new frontiers, the idea of colonizing Mars has captured the imagination of many. While living on the red planet presents immense challenges, doing so would provide humanity invaluable knowledge and experience that could propel further space exploration. This essay will examine the feasibility, motivations, and potential benefits and drawbacks of establishing a permanent human settlement on Mars."
     ]
    }
   ],
   "source": [
    "response = bedrock.invoke_model_with_response_stream(\n",
    "    modelId='anthropic.claude-v2', \n",
    "    body=body\n",
    ")\n",
    "\n",
    "stream = response.get('body')\n",
    "if stream:\n",
    "    for event in stream:\n",
    "        chunk = event.get('chunk')\n",
    "        if chunk:\n",
    "            #print(json.loads(chunk.get('bytes').decode()['completion'])\n",
    "            print(json.loads(event['chunk']['bytes'].decode())['completion'], end=\"\")"
   ]
  },
  {
   "cell_type": "code",
   "execution_count": null,
   "id": "62163cda-90d6-42e5-a419-c8d2f1582c47",
   "metadata": {},
   "outputs": [],
   "source": []
  }
 ],
 "metadata": {
  "kernelspec": {
   "display_name": "conda_python3",
   "language": "python",
   "name": "conda_python3"
  },
  "language_info": {
   "codemirror_mode": {
    "name": "ipython",
    "version": 3
   },
   "file_extension": ".py",
   "mimetype": "text/x-python",
   "name": "python",
   "nbconvert_exporter": "python",
   "pygments_lexer": "ipython3",
   "version": "3.10.12"
  }
 },
 "nbformat": 4,
 "nbformat_minor": 5
}
